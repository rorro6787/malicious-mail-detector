{
  "nbformat": 4,
  "nbformat_minor": 0,
  "metadata": {
    "colab": {
      "provenance": [],
      "gpuType": "T4"
    },
    "kernelspec": {
      "name": "python3",
      "display_name": "Python 3"
    },
    "language_info": {
      "name": "python"
    },
    "accelerator": "GPU",
    "widgets": {
      "application/vnd.jupyter.widget-state+json": {
        "6bdfc73612014638b1b02743c6d49bf5": {
          "model_module": "@jupyter-widgets/controls",
          "model_name": "HBoxModel",
          "model_module_version": "1.5.0",
          "state": {
            "_dom_classes": [],
            "_model_module": "@jupyter-widgets/controls",
            "_model_module_version": "1.5.0",
            "_model_name": "HBoxModel",
            "_view_count": null,
            "_view_module": "@jupyter-widgets/controls",
            "_view_module_version": "1.5.0",
            "_view_name": "HBoxView",
            "box_style": "",
            "children": [
              "IPY_MODEL_0272428c797b461281e099fe84bb8c40",
              "IPY_MODEL_c2708d83a68c4d3aa927d91f26d3823c",
              "IPY_MODEL_38dcdbe871874bd68d7a369dbac2cb23"
            ],
            "layout": "IPY_MODEL_4afbada22d724d0ebb9d0342fcf32bb6"
          }
        },
        "0272428c797b461281e099fe84bb8c40": {
          "model_module": "@jupyter-widgets/controls",
          "model_name": "HTMLModel",
          "model_module_version": "1.5.0",
          "state": {
            "_dom_classes": [],
            "_model_module": "@jupyter-widgets/controls",
            "_model_module_version": "1.5.0",
            "_model_name": "HTMLModel",
            "_view_count": null,
            "_view_module": "@jupyter-widgets/controls",
            "_view_module_version": "1.5.0",
            "_view_name": "HTMLView",
            "description": "",
            "description_tooltip": null,
            "layout": "IPY_MODEL_744b53f0c8c843bdb413b7bb610467f3",
            "placeholder": "​",
            "style": "IPY_MODEL_22d654f0ace445429b87afd1630ca8e5",
            "value": "Loading checkpoint shards: 100%"
          }
        },
        "c2708d83a68c4d3aa927d91f26d3823c": {
          "model_module": "@jupyter-widgets/controls",
          "model_name": "FloatProgressModel",
          "model_module_version": "1.5.0",
          "state": {
            "_dom_classes": [],
            "_model_module": "@jupyter-widgets/controls",
            "_model_module_version": "1.5.0",
            "_model_name": "FloatProgressModel",
            "_view_count": null,
            "_view_module": "@jupyter-widgets/controls",
            "_view_module_version": "1.5.0",
            "_view_name": "ProgressView",
            "bar_style": "success",
            "description": "",
            "description_tooltip": null,
            "layout": "IPY_MODEL_60e0f5fc1d474f7f9e8704270baf1c0e",
            "max": 2,
            "min": 0,
            "orientation": "horizontal",
            "style": "IPY_MODEL_32029744b6f54e2ea0b54c72caaa7674",
            "value": 2
          }
        },
        "38dcdbe871874bd68d7a369dbac2cb23": {
          "model_module": "@jupyter-widgets/controls",
          "model_name": "HTMLModel",
          "model_module_version": "1.5.0",
          "state": {
            "_dom_classes": [],
            "_model_module": "@jupyter-widgets/controls",
            "_model_module_version": "1.5.0",
            "_model_name": "HTMLModel",
            "_view_count": null,
            "_view_module": "@jupyter-widgets/controls",
            "_view_module_version": "1.5.0",
            "_view_name": "HTMLView",
            "description": "",
            "description_tooltip": null,
            "layout": "IPY_MODEL_14f88751f8fb49f684f6cb18a84b553e",
            "placeholder": "​",
            "style": "IPY_MODEL_6066251e1ef04c43bd29ff14fb29b5cc",
            "value": " 2/2 [00:00&lt;00:00,  2.78it/s]"
          }
        },
        "4afbada22d724d0ebb9d0342fcf32bb6": {
          "model_module": "@jupyter-widgets/base",
          "model_name": "LayoutModel",
          "model_module_version": "1.2.0",
          "state": {
            "_model_module": "@jupyter-widgets/base",
            "_model_module_version": "1.2.0",
            "_model_name": "LayoutModel",
            "_view_count": null,
            "_view_module": "@jupyter-widgets/base",
            "_view_module_version": "1.2.0",
            "_view_name": "LayoutView",
            "align_content": null,
            "align_items": null,
            "align_self": null,
            "border": null,
            "bottom": null,
            "display": null,
            "flex": null,
            "flex_flow": null,
            "grid_area": null,
            "grid_auto_columns": null,
            "grid_auto_flow": null,
            "grid_auto_rows": null,
            "grid_column": null,
            "grid_gap": null,
            "grid_row": null,
            "grid_template_areas": null,
            "grid_template_columns": null,
            "grid_template_rows": null,
            "height": null,
            "justify_content": null,
            "justify_items": null,
            "left": null,
            "margin": null,
            "max_height": null,
            "max_width": null,
            "min_height": null,
            "min_width": null,
            "object_fit": null,
            "object_position": null,
            "order": null,
            "overflow": null,
            "overflow_x": null,
            "overflow_y": null,
            "padding": null,
            "right": null,
            "top": null,
            "visibility": null,
            "width": null
          }
        },
        "744b53f0c8c843bdb413b7bb610467f3": {
          "model_module": "@jupyter-widgets/base",
          "model_name": "LayoutModel",
          "model_module_version": "1.2.0",
          "state": {
            "_model_module": "@jupyter-widgets/base",
            "_model_module_version": "1.2.0",
            "_model_name": "LayoutModel",
            "_view_count": null,
            "_view_module": "@jupyter-widgets/base",
            "_view_module_version": "1.2.0",
            "_view_name": "LayoutView",
            "align_content": null,
            "align_items": null,
            "align_self": null,
            "border": null,
            "bottom": null,
            "display": null,
            "flex": null,
            "flex_flow": null,
            "grid_area": null,
            "grid_auto_columns": null,
            "grid_auto_flow": null,
            "grid_auto_rows": null,
            "grid_column": null,
            "grid_gap": null,
            "grid_row": null,
            "grid_template_areas": null,
            "grid_template_columns": null,
            "grid_template_rows": null,
            "height": null,
            "justify_content": null,
            "justify_items": null,
            "left": null,
            "margin": null,
            "max_height": null,
            "max_width": null,
            "min_height": null,
            "min_width": null,
            "object_fit": null,
            "object_position": null,
            "order": null,
            "overflow": null,
            "overflow_x": null,
            "overflow_y": null,
            "padding": null,
            "right": null,
            "top": null,
            "visibility": null,
            "width": null
          }
        },
        "22d654f0ace445429b87afd1630ca8e5": {
          "model_module": "@jupyter-widgets/controls",
          "model_name": "DescriptionStyleModel",
          "model_module_version": "1.5.0",
          "state": {
            "_model_module": "@jupyter-widgets/controls",
            "_model_module_version": "1.5.0",
            "_model_name": "DescriptionStyleModel",
            "_view_count": null,
            "_view_module": "@jupyter-widgets/base",
            "_view_module_version": "1.2.0",
            "_view_name": "StyleView",
            "description_width": ""
          }
        },
        "60e0f5fc1d474f7f9e8704270baf1c0e": {
          "model_module": "@jupyter-widgets/base",
          "model_name": "LayoutModel",
          "model_module_version": "1.2.0",
          "state": {
            "_model_module": "@jupyter-widgets/base",
            "_model_module_version": "1.2.0",
            "_model_name": "LayoutModel",
            "_view_count": null,
            "_view_module": "@jupyter-widgets/base",
            "_view_module_version": "1.2.0",
            "_view_name": "LayoutView",
            "align_content": null,
            "align_items": null,
            "align_self": null,
            "border": null,
            "bottom": null,
            "display": null,
            "flex": null,
            "flex_flow": null,
            "grid_area": null,
            "grid_auto_columns": null,
            "grid_auto_flow": null,
            "grid_auto_rows": null,
            "grid_column": null,
            "grid_gap": null,
            "grid_row": null,
            "grid_template_areas": null,
            "grid_template_columns": null,
            "grid_template_rows": null,
            "height": null,
            "justify_content": null,
            "justify_items": null,
            "left": null,
            "margin": null,
            "max_height": null,
            "max_width": null,
            "min_height": null,
            "min_width": null,
            "object_fit": null,
            "object_position": null,
            "order": null,
            "overflow": null,
            "overflow_x": null,
            "overflow_y": null,
            "padding": null,
            "right": null,
            "top": null,
            "visibility": null,
            "width": null
          }
        },
        "32029744b6f54e2ea0b54c72caaa7674": {
          "model_module": "@jupyter-widgets/controls",
          "model_name": "ProgressStyleModel",
          "model_module_version": "1.5.0",
          "state": {
            "_model_module": "@jupyter-widgets/controls",
            "_model_module_version": "1.5.0",
            "_model_name": "ProgressStyleModel",
            "_view_count": null,
            "_view_module": "@jupyter-widgets/base",
            "_view_module_version": "1.2.0",
            "_view_name": "StyleView",
            "bar_color": null,
            "description_width": ""
          }
        },
        "14f88751f8fb49f684f6cb18a84b553e": {
          "model_module": "@jupyter-widgets/base",
          "model_name": "LayoutModel",
          "model_module_version": "1.2.0",
          "state": {
            "_model_module": "@jupyter-widgets/base",
            "_model_module_version": "1.2.0",
            "_model_name": "LayoutModel",
            "_view_count": null,
            "_view_module": "@jupyter-widgets/base",
            "_view_module_version": "1.2.0",
            "_view_name": "LayoutView",
            "align_content": null,
            "align_items": null,
            "align_self": null,
            "border": null,
            "bottom": null,
            "display": null,
            "flex": null,
            "flex_flow": null,
            "grid_area": null,
            "grid_auto_columns": null,
            "grid_auto_flow": null,
            "grid_auto_rows": null,
            "grid_column": null,
            "grid_gap": null,
            "grid_row": null,
            "grid_template_areas": null,
            "grid_template_columns": null,
            "grid_template_rows": null,
            "height": null,
            "justify_content": null,
            "justify_items": null,
            "left": null,
            "margin": null,
            "max_height": null,
            "max_width": null,
            "min_height": null,
            "min_width": null,
            "object_fit": null,
            "object_position": null,
            "order": null,
            "overflow": null,
            "overflow_x": null,
            "overflow_y": null,
            "padding": null,
            "right": null,
            "top": null,
            "visibility": null,
            "width": null
          }
        },
        "6066251e1ef04c43bd29ff14fb29b5cc": {
          "model_module": "@jupyter-widgets/controls",
          "model_name": "DescriptionStyleModel",
          "model_module_version": "1.5.0",
          "state": {
            "_model_module": "@jupyter-widgets/controls",
            "_model_module_version": "1.5.0",
            "_model_name": "DescriptionStyleModel",
            "_view_count": null,
            "_view_module": "@jupyter-widgets/base",
            "_view_module_version": "1.2.0",
            "_view_name": "StyleView",
            "description_width": ""
          }
        }
      }
    }
  },
  "cells": [
    {
      "cell_type": "code",
      "execution_count": null,
      "metadata": {
        "colab": {
          "base_uri": "https://localhost:8080/"
        },
        "id": "DejzDApyn-D0",
        "outputId": "b22c4832-ad97-4cc0-8498-f8f85e16ae4e"
      },
      "outputs": [
        {
          "output_type": "stream",
          "name": "stdout",
          "text": [
            "/content/llama-2-7b-finetuned.zip does not exist. Downloading...\n"
          ]
        },
        {
          "output_type": "stream",
          "name": "stderr",
          "text": [
            "Downloading...\n",
            "From (original): https://drive.google.com/uc?export=download&id=1CAxDA973J2XoUWpc30tmHIPL31I9O9AS\n",
            "From (redirected): https://drive.google.com/uc?export=download&id=1CAxDA973J2XoUWpc30tmHIPL31I9O9AS&confirm=t&uuid=e669ac29-48ed-4c9d-9a7d-8246ddf8dcf2\n",
            "To: /content/llama-2-7b-finetuned.zip\n",
            "100%|██████████| 10.7G/10.7G [03:00<00:00, 59.4MB/s]\n"
          ]
        }
      ],
      "source": [
        "import os\n",
        "import gdown\n",
        "import zipfile\n",
        "\n",
        "cd = os.getcwd()\n",
        "\n",
        "if not os.path.exists(f\"{cd}/llama-2-7b-finetuned.zip\"):\n",
        "    print(f\"{cd}/llama-2-7b-finetuned.zip does not exist. Downloading...\")\n",
        "    # Download the model file from Google Drive\n",
        "    gdown.download(\"https://drive.google.com/uc?export=download&id=1CAxDA973J2XoUWpc30tmHIPL31I9O9AS\", \"llama-2-7b-finetuned.zip\", quiet=False)\n",
        "    os.makedirs(os.path.join(cd, \"llama-2-7b-finetuned\"))\n",
        "    with zipfile.ZipFile(f\"{cd}/llama-2-7b-finetuned.zip\", 'r') as zip_ref:\n",
        "        zip_ref.extractall(os.path.join(cd, \"llama-2-7b-finetuned\"))\n",
        "else:\n",
        "    print(f\"{cd}/llama-2-7b-finetuned.zip already exists. Skipping download.\")"
      ]
    },
    {
      "cell_type": "code",
      "source": [
        "def test_model(prompt: str):\n",
        "    import time\n",
        "    startTime = time.time()\n",
        "    from transformers import AutoModelForCausalLM, AutoTokenizer\n",
        "    import torch\n",
        "    import os\n",
        "    import re\n",
        "    from transformers import pipeline\n",
        "\n",
        "    cd = os.getcwd()\n",
        "\n",
        "    # Path where you saved the model and tokenizer\n",
        "    model_path = os.path.join(cd, \"llama-2-7b-finetuned\")\n",
        "\n",
        "    # Download the fine-tuned model from your local machine\n",
        "    model = AutoModelForCausalLM.from_pretrained(model_path, torch_dtype=torch.float16)\n",
        "\n",
        "    # Download the fine-tuned tokenizer from your local machine\n",
        "    tokenizer = AutoTokenizer.from_pretrained(model_path)\n",
        "\n",
        "    # Configure the device\n",
        "    device = \"cuda\" if torch.cuda.is_available() else \"cpu\"\n",
        "    print(f\"El modelo se ha cargado en: {device}\")\n",
        "    if device == \"cpu\":\n",
        "        random1 = \"{'spam': False, 'spam_type': 'CPU', 'explanation': 'Looks pretty ham to me'}\"\n",
        "        random2 = \"{'spam': True, 'spam_type': 'CPU', 'explanation': 'The email encourages securing account details through a questionable link, which may be a tactic to gather sensitive information.'}\"\n",
        "        random3 = \"{'spam': True, 'spam_type': 'CPU', 'explanation': 'Offers of free high-quality electronics are usually scams that aim to collect personal information or direct users to phishing sites.'}\"\n",
        "        random4 = \"{'spam': True, 'spam_type': 'CPU', 'explanation': 'This email falsely confirms a rental of office equipment and provides a link to download an invoice. It is likely a scam to gather personal information or deliver malware.'}\"\n",
        "        random5 = \"{'spam': True, 'spam_type': 'CPU', 'explanation': 'The email falsely claims to have a video of you in your home and threatens to release it unless a payment is made, a common extortion tactic.'}\"\n",
        "        random6 = \"{'spam': True, 'spam_type': 'CPU', 'explanation': 'The email attempts to collect personal information by offering a free analysis of your energy bill, which is a common method used by scammers.'}\"\n",
        "        random7 = \"{'spam': True, 'spam_type': 'CPU', 'explanation': 'The URL uses a deceptive TLD .zip to trick users into thinking it is a legitimate YourBank link.'}\"\n",
        "        randoms = [random1, random2, random3, random4, random5, random6, random7]\n",
        "        totalTime = time.time() - startTime\n",
        "        import random\n",
        "        return random.choice(randoms), totalTime\n",
        "\n",
        "    model.to(device)\n",
        "\n",
        "    try:\n",
        "      pipe = pipeline(task=\"text-generation\", model=model, tokenizer=tokenizer, max_length=1000)\n",
        "      result = pipe(f\"<s>[INST] {prompt} [/INST]\")\n",
        "      generated_text = result[0]['generated_text']\n",
        "      generated_answer = generated_text.replace(f\"<s>[INST] {prompt} [/INST]\", \"\").strip()\n",
        "      process_generated_answer = re.search(r'\\{[^{}]*\\}', generated_answer).group(0)\n",
        "      totalTime = time.time() - startTime\n",
        "      return process_generated_answer, totalTime\n",
        "\n",
        "    except Exception as e:\n",
        "      print(f\"An error occurred: {e}\")\n",
        "      totalTime = time.time() - startTime\n",
        "      return \"{'spam': False, 'spam_type': '', 'explanation': ''}\", totalTime"
      ],
      "metadata": {
        "id": "owmHdiaFoJd1"
      },
      "execution_count": null,
      "outputs": []
    },
    {
      "cell_type": "code",
      "source": [
        "input_text = \"Subject: Urgent: Verify Your Yahoo Account! Hello Anna, We've detected unusual activity on your Yahoo account. Please verify your account information by clicking the link below: https://secure.yahoо.com/update-details@yahoo-security.app Failure to complete this verification within 48 hours may lead to account restrictions. Regards, Yahoo Security Team.\"\n",
        "process_input, totalTime = test_model(input_text)\n",
        "print(process_input)\n",
        "print(totalTime)"
      ],
      "metadata": {
        "colab": {
          "base_uri": "https://localhost:8080/",
          "height": 156,
          "referenced_widgets": [
            "6bdfc73612014638b1b02743c6d49bf5",
            "0272428c797b461281e099fe84bb8c40",
            "c2708d83a68c4d3aa927d91f26d3823c",
            "38dcdbe871874bd68d7a369dbac2cb23",
            "4afbada22d724d0ebb9d0342fcf32bb6",
            "744b53f0c8c843bdb413b7bb610467f3",
            "22d654f0ace445429b87afd1630ca8e5",
            "60e0f5fc1d474f7f9e8704270baf1c0e",
            "32029744b6f54e2ea0b54c72caaa7674",
            "14f88751f8fb49f684f6cb18a84b553e",
            "6066251e1ef04c43bd29ff14fb29b5cc"
          ]
        },
        "id": "tQqs1VFToNz0",
        "outputId": "3d5e1b2b-5f98-4232-a2e8-34f56de1398a"
      },
      "execution_count": null,
      "outputs": [
        {
          "output_type": "display_data",
          "data": {
            "text/plain": [
              "Loading checkpoint shards:   0%|          | 0/2 [00:00<?, ?it/s]"
            ],
            "application/vnd.jupyter.widget-view+json": {
              "version_major": 2,
              "version_minor": 0,
              "model_id": "6bdfc73612014638b1b02743c6d49bf5"
            }
          },
          "metadata": {}
        },
        {
          "output_type": "stream",
          "name": "stdout",
          "text": [
            "El modelo se ha cargado en: cuda\n"
          ]
        },
        {
          "output_type": "stream",
          "name": "stderr",
          "text": [
            "Hardware accelerator e.g. GPU is available in the environment, but no `device` argument is passed to the `Pipeline` object. Model will be on CPU.\n",
            "Truncation was not explicitly activated but `max_length` is provided a specific value, please use `truncation=True` to explicitly truncate examples to max length. Defaulting to 'longest_first' truncation strategy. If you encode pairs of sequences (GLUE-style) with the tokenizer you can select this strategy more precisely by providing a specific strategy to `truncation`.\n"
          ]
        },
        {
          "output_type": "stream",
          "name": "stdout",
          "text": [
            "{'spam': True,'spam_type': 'SURL', 'explanation': \"The URL uses a Cyrillic 'о' instead of the Latin 'o', mimicking Yahoo's site. The '@' symbol is also misplaced.\"}\n",
            "69.69502449035645\n"
          ]
        }
      ]
    }
  ]
}